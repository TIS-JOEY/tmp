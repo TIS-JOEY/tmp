{
 "cells": [
  {
   "cell_type": "markdown",
   "metadata": {},
   "source": [
    "### Dijkstra"
   ]
  },
  {
   "cell_type": "code",
   "execution_count": 220,
   "metadata": {},
   "outputs": [],
   "source": [
    "edges = [[0, 1, 4],\n",
    "         [0, 6, 7],\n",
    "         [1, 6, 11],\n",
    "         [1, 7, 20],\n",
    "         [6, 7, 1],\n",
    "         [1, 2, 9],\n",
    "         [2, 4, 2],\n",
    "         [4, 7, 1],\n",
    "         [2, 3, 6],\n",
    "         [4, 3, 10],\n",
    "         [7, 8, 3],\n",
    "         [4, 8, 5],\n",
    "         [4, 5, 15],\n",
    "         [3, 5, 5],\n",
    "         [8, 5, 12]]"
   ]
  },
  {
   "cell_type": "code",
   "execution_count": 221,
   "metadata": {},
   "outputs": [],
   "source": [
    "adjacency_matrix = [[float('inf') if i !=j else 0 for i in range(9)] for j in range(9)]"
   ]
  },
  {
   "cell_type": "code",
   "execution_count": 222,
   "metadata": {},
   "outputs": [],
   "source": [
    "for edge in edges:\n",
    "    adjacency_matrix[edge[0]][edge[1]] = edge[2]\n",
    "    adjacency_matrix[edge[1]][edge[0]] = edge[2]"
   ]
  },
  {
   "cell_type": "code",
   "execution_count": 223,
   "metadata": {},
   "outputs": [
    {
     "data": {
      "text/plain": [
       "[[0, 4, inf, inf, inf, inf, 7, inf, inf],\n",
       " [4, 0, 9, inf, inf, inf, 11, 20, inf],\n",
       " [inf, 9, 0, 6, 2, inf, inf, inf, inf],\n",
       " [inf, inf, 6, 0, 10, 5, inf, inf, inf],\n",
       " [inf, inf, 2, 10, 0, 15, inf, 1, 5],\n",
       " [inf, inf, inf, 5, 15, 0, inf, inf, 12],\n",
       " [7, 11, inf, inf, inf, inf, 0, 1, inf],\n",
       " [inf, 20, inf, inf, 1, inf, 1, 0, 3],\n",
       " [inf, inf, inf, inf, 5, 12, inf, 3, 0]]"
      ]
     },
     "execution_count": 223,
     "metadata": {},
     "output_type": "execute_result"
    }
   ],
   "source": [
    "adjacency_matrix"
   ]
  },
  {
   "cell_type": "code",
   "execution_count": 224,
   "metadata": {},
   "outputs": [],
   "source": [
    "def dijkstra(start, adjacency_matrix):\n",
    "    min_distance = [float('inf') for i in range(len(adjacency_matrix[0]))]\n",
    "    min_distance[start] = 0\n",
    "    queue = [start]\n",
    "    travelSet = {start}\n",
    "    while(len(queue)>0):\n",
    "        currentNode = queue.pop()\n",
    "        travelSet.add(currentNode)\n",
    "        for i in range(len(adjacency_matrix[currentNode])):\n",
    "            cost = adjacency_matrix[currentNode][i]\n",
    "            if (min_distance[currentNode]+cost<min_distance[i]):\n",
    "                min_distance[i] = min_distance[currentNode]+cost\n",
    "        newNode = None\n",
    "        minNewDistance = float('inf')\n",
    "        for i in range(len(min_distance)):\n",
    "            if i not in travelSet:\n",
    "                if (newNode == None or minNewDistance>min_distance[i]):\n",
    "                    newNode = i\n",
    "                    minNewDistance = min_distance[i]\n",
    "        \n",
    "        if(newNode!=None):\n",
    "            queue.append(newNode)\n",
    "        print('node', currentNode, min_distance)\n",
    "    print(min_distance)"
   ]
  },
  {
   "cell_type": "code",
   "execution_count": 225,
   "metadata": {},
   "outputs": [],
   "source": [
    "from collections import defaultdict\n",
    "from heapq import heappush, heappop\n",
    "\n",
    "def test(n, start, edges):\n",
    "    costs = defaultdict(list)\n",
    "    travelSet = {start}\n",
    "    for x,y,c in edges:\n",
    "        costs[x].append([y,c])\n",
    "    minDist = [float('inf')]*n\n",
    "    minDist[start] = 0\n",
    "    queue = [[0, start]]\n",
    "    while queue:\n",
    "        curcost, node = heappop(queue)\n",
    "        for nxt, cost in costs[node]:\n",
    "            nxtcost = curcost + cost\n",
    "            if (nxtcost<minDist[nxt]):\n",
    "                minDist[nxt] = nxtcost\n",
    "                heappush(queue, [nxtcost, nxt])\n",
    "        print('node', node, minDist)"
   ]
  },
  {
   "cell_type": "code",
   "execution_count": 226,
   "metadata": {},
   "outputs": [],
   "source": [
    "edges1 = [[0,1,4],[0,6,7],[1,6,11],[1,7,20],[1,2,9],[2,3,6],[2,4,2],[3,4,10],[3,5,5],[4,5,15],[4,7,1],[4,8,5],[5,8,12],[6,7,1],[7,8,3]]\n",
    "adjacency_matrix1 = [[float('inf') if i !=j else 0 for i in range(9)] for j in range(9)]\n",
    "for edge in edges:\n",
    "    adjacency_matrix1[edge[0]][edge[1]] = edge[2]\n",
    "    adjacency_matrix1[edge[1]][edge[0]] = edge[2]\n"
   ]
  },
  {
   "cell_type": "code",
   "execution_count": 227,
   "metadata": {},
   "outputs": [
    {
     "name": "stdout",
     "output_type": "stream",
     "text": [
      "node 0 [0, 4, inf, inf, inf, inf, 7, inf, inf]\n",
      "node 1 [0, 4, 13, inf, inf, inf, 7, 24, inf]\n",
      "node 6 [0, 4, 13, inf, inf, inf, 7, 8, inf]\n",
      "node 7 [0, 4, 13, inf, 9, inf, 7, 8, 11]\n",
      "node 4 [0, 4, 11, 19, 9, 24, 7, 8, 11]\n",
      "node 2 [0, 4, 11, 17, 9, 24, 7, 8, 11]\n",
      "node 8 [0, 4, 11, 17, 9, 23, 7, 8, 11]\n",
      "node 3 [0, 4, 11, 17, 9, 22, 7, 8, 11]\n",
      "node 5 [0, 4, 11, 17, 9, 22, 7, 8, 11]\n",
      "[0, 4, 11, 17, 9, 22, 7, 8, 11]\n"
     ]
    }
   ],
   "source": [
    "dijkstra(0, adjacency_matrix1)"
   ]
  },
  {
   "cell_type": "markdown",
   "metadata": {},
   "source": [
    "### Floyd-Warshall"
   ]
  },
  {
   "cell_type": "code",
   "execution_count": 228,
   "metadata": {},
   "outputs": [],
   "source": [
    "adjacency_matrix = [[0, 2, 6, 4],\n",
    "                    [float('inf'), 0, 3, float('inf')],\n",
    "                    [7, float('inf'), 0, 1],\n",
    "                    [5, float('inf'), 12, 0]]"
   ]
  },
  {
   "cell_type": "code",
   "execution_count": 229,
   "metadata": {},
   "outputs": [],
   "source": [
    "def folydWarshall(adjacency_matrix):\n",
    "    \n",
    "    for k in range(len(adjacency_matrix[0])):\n",
    "        for i in range(len(adjacency_matrix[0])):\n",
    "            for j in range(len(adjacency_matrix[0])):\n",
    "                adjacency_matrix[i][j] = min(adjacency_matrix[i][j], adjacency_matrix[i][k]+adjacency_matrix[k][j])\n",
    "    print(adjacency_matrix)"
   ]
  },
  {
   "cell_type": "code",
   "execution_count": 230,
   "metadata": {},
   "outputs": [
    {
     "name": "stdout",
     "output_type": "stream",
     "text": [
      "[[0, 2, 5, 4], [9, 0, 3, 4], [6, 8, 0, 1], [5, 7, 10, 0]]\n"
     ]
    }
   ],
   "source": [
    "folydWarshall(adjacency_matrix)"
   ]
  },
  {
   "cell_type": "markdown",
   "metadata": {},
   "source": [
    "### BFS"
   ]
  },
  {
   "cell_type": "code",
   "execution_count": 231,
   "metadata": {},
   "outputs": [],
   "source": [
    "class TreeNode:\n",
    "    val = None\n",
    "    child = []\n",
    "    def __init__(self, val, child):\n",
    "        self.val = val\n",
    "        self.child = []\n",
    "    def addChild(self, child):\n",
    "        self.child.append(child)\n",
    "treeNodeA = TreeNode('A', [])\n",
    "treeNodeB = TreeNode('B', [])\n",
    "treeNodeC = TreeNode('C', [])\n",
    "treeNodeD = TreeNode('D', [])\n",
    "treeNodeE = TreeNode('E', [])\n",
    "treeNodeF = TreeNode('F', [])\n",
    "treeNodeX = TreeNode('X', [])\n",
    "treeNodeA.addChild(treeNodeB)\n",
    "treeNodeA.addChild(treeNodeC)\n",
    "treeNodeB.addChild(treeNodeD)\n",
    "treeNodeB.addChild(treeNodeX)\n",
    "treeNodeD.addChild(treeNodeE)\n",
    "treeNodeC.addChild(treeNodeF)"
   ]
  },
  {
   "cell_type": "code",
   "execution_count": 318,
   "metadata": {},
   "outputs": [],
   "source": [
    "def bfs(node):\n",
    "    queue = [node]\n",
    "    while(len(queue)>0):\n",
    "        currentNode = queue.pop(0)\n",
    "        print(currentNode.val)\n",
    "        for child in currentNode.child:\n",
    "            queue.append(child)"
   ]
  },
  {
   "cell_type": "code",
   "execution_count": 319,
   "metadata": {},
   "outputs": [
    {
     "name": "stdout",
     "output_type": "stream",
     "text": [
      "A\n",
      "B\n",
      "C\n",
      "D\n",
      "X\n",
      "F\n",
      "E\n"
     ]
    }
   ],
   "source": [
    "bfs(treeNodeA)"
   ]
  },
  {
   "cell_type": "markdown",
   "metadata": {},
   "source": [
    "### DFS"
   ]
  },
  {
   "cell_type": "code",
   "execution_count": 320,
   "metadata": {},
   "outputs": [],
   "source": [
    "def dfs(node):\n",
    "    stack = [node]\n",
    "    while(len(stack)>0):\n",
    "        currentNode = stack.pop()\n",
    "        print(currentNode.val)\n",
    "        for childIndex in range(len(currentNode.child)-1, -1, -1):\n",
    "            child = currentNode.child[childIndex]\n",
    "            stack.append(child)"
   ]
  },
  {
   "cell_type": "code",
   "execution_count": 321,
   "metadata": {},
   "outputs": [
    {
     "name": "stdout",
     "output_type": "stream",
     "text": [
      "A\n",
      "B\n",
      "D\n",
      "E\n",
      "X\n",
      "C\n",
      "F\n"
     ]
    }
   ],
   "source": [
    "dfs(treeNodeA)"
   ]
  },
  {
   "cell_type": "markdown",
   "metadata": {},
   "source": [
    "### Knapsap"
   ]
  },
  {
   "cell_type": "code",
   "execution_count": 236,
   "metadata": {},
   "outputs": [],
   "source": [
    "item2Value = {'A':4500,'B':5700,'C':2250,'D':1100,'E':6700}\n",
    "item2Weight = {'A':4,'B':5,'C':2,'D':1,'E':6}\n",
    "maxWeight = 8"
   ]
  },
  {
   "cell_type": "code",
   "execution_count": 237,
   "metadata": {},
   "outputs": [],
   "source": [
    "def knapsap(item2Value, item2Weight, maxWeight):\n",
    "    dp = [0 for i in range(maxWeight+1)]\n",
    "    for item, itemValue in item2Value.items():\n",
    "        itemWeight = item2Weight[item]\n",
    "        for currentAffordWeight in range(maxWeight+1):\n",
    "            for itemCnt in range(currentAffordWeight//itemWeight):\n",
    "                weightCost = itemWeight*(itemCnt+1)\n",
    "                currentValue = itemValue * (itemCnt+1)\n",
    "                remainWeight = currentAffordWeight - weightCost\n",
    "                if (remainWeight >= 0):\n",
    "                    dp[currentAffordWeight] = max(dp[currentAffordWeight], dp[remainWeight]+currentValue)\n",
    "    print('dp', dp)"
   ]
  },
  {
   "cell_type": "code",
   "execution_count": 238,
   "metadata": {},
   "outputs": [
    {
     "name": "stdout",
     "output_type": "stream",
     "text": [
      "dp [0, 1100, 2250, 3350, 4500, 5700, 6800, 7950, 9050]\n"
     ]
    }
   ],
   "source": [
    "knapsap(item2Value, item2Weight, maxWeight)"
   ]
  },
  {
   "cell_type": "markdown",
   "metadata": {},
   "source": [
    "### Bellman-Ford"
   ]
  },
  {
   "cell_type": "code",
   "execution_count": 322,
   "metadata": {},
   "outputs": [],
   "source": [
    "edges = [[1, 2, 2], [0, 1, -3], [0, 4, 5], [3, 4, 2], [2, 3, 3]]\n",
    "start = 0"
   ]
  },
  {
   "cell_type": "code",
   "execution_count": 323,
   "metadata": {},
   "outputs": [],
   "source": [
    "def bellmanFord(edges, totalLen, start):\n",
    "    min_distance = [float('inf') if i!=start else 0 for i in range(totalLen)]\n",
    "    withoutRenew = False\n",
    "    while(withoutRenew == False):\n",
    "        withoutRenew = True\n",
    "        for edge in edges:\n",
    "            startPoint = edge[0]\n",
    "            destPoint = edge[1]\n",
    "            cost = edge[2]\n",
    "            if (min_distance[destPoint]>min_distance[startPoint]+cost):\n",
    "                withoutRenew = False\n",
    "                min_distance[destPoint] = min_distance[startPoint]+cost\n",
    "    return min_distance"
   ]
  },
  {
   "cell_type": "code",
   "execution_count": 324,
   "metadata": {},
   "outputs": [
    {
     "name": "stdout",
     "output_type": "stream",
     "text": [
      "[0, -3, -1, 2, 4]\n"
     ]
    }
   ],
   "source": [
    "min_distance = bellmanFord(edges, 5, 0)\n",
    "print(min_distance)"
   ]
  },
  {
   "cell_type": "markdown",
   "metadata": {},
   "source": [
    "#### check has cycle"
   ]
  },
  {
   "cell_type": "code",
   "execution_count": 477,
   "metadata": {},
   "outputs": [],
   "source": [
    "edges = [[0, 1], [1, 2], [2, 3], [0, 4], [3, 4]]"
   ]
  },
  {
   "cell_type": "code",
   "execution_count": 478,
   "metadata": {},
   "outputs": [],
   "source": [
    "def checkHasCycle(edges, maxN):\n",
    "    group2Members = {i:{i} for i in range(maxN)}\n",
    "    for edge in edges:\n",
    "        \n",
    "        for group, members in group2Members.items():\n",
    "            if (edge[0] in members):\n",
    "                group2Members[group] = members.union(group2Members[edge[1]])\n",
    "        if (edge[0] in group2Members[edge[1]]):\n",
    "            return True\n",
    "    return False\n",
    "        "
   ]
  },
  {
   "cell_type": "code",
   "execution_count": 479,
   "metadata": {},
   "outputs": [
    {
     "data": {
      "text/plain": [
       "False"
      ]
     },
     "execution_count": 479,
     "metadata": {},
     "output_type": "execute_result"
    }
   ],
   "source": [
    "checkHasCycle(edges, 5)"
   ]
  },
  {
   "cell_type": "markdown",
   "metadata": {},
   "source": [
    "### truck"
   ]
  },
  {
   "cell_type": "code",
   "execution_count": 249,
   "metadata": {},
   "outputs": [],
   "source": [
    "truckSize = 5\n",
    "unitsPerBox = [3, 2, 1]\n",
    "boxes = [1, 2, 3]"
   ]
  },
  {
   "cell_type": "code",
   "execution_count": 250,
   "metadata": {},
   "outputs": [],
   "source": [
    "dp = [0 for i in range(truckSize+1)]"
   ]
  },
  {
   "cell_type": "code",
   "execution_count": 251,
   "metadata": {},
   "outputs": [
    {
     "name": "stdout",
     "output_type": "stream",
     "text": [
      "[0, 3, 3, 3, 3, 3]\n",
      "[0, 3, 5, 7, 7, 7]\n",
      "[0, 3, 5, 7, 8, 9]\n"
     ]
    }
   ],
   "source": [
    "for currentBoxIndex in range(len(boxes)):\n",
    "    currentBoxUnit = unitsPerBox[currentBoxIndex]\n",
    "    affordSize2Units = {}\n",
    "    for affordSize in range(len(dp)):\n",
    "        for boxCnt in range(1, boxes[currentBoxIndex]+1):\n",
    "            units = currentBoxUnit * boxCnt\n",
    "            remainAffordSize = affordSize - boxCnt\n",
    "            if (remainAffordSize >= 0):\n",
    "                renewValue = max(dp[affordSize], units + dp[remainAffordSize])\n",
    "                if (affordSize in affordSize2Units):\n",
    "                    affordSize2Units[affordSize] = max(affordSize2Units[affordSize], renewValue)\n",
    "                else:\n",
    "                    affordSize2Units[affordSize] = renewValue\n",
    "    for affordSize, units in affordSize2Units.items():\n",
    "        dp[affordSize] = units\n",
    "    print(dp)"
   ]
  },
  {
   "cell_type": "markdown",
   "metadata": {},
   "source": [
    "### Disjoint set"
   ]
  },
  {
   "cell_type": "code",
   "execution_count": 263,
   "metadata": {},
   "outputs": [
    {
     "data": {
      "text/plain": [
       "[0, 1, 2, 3, 4, 5]"
      ]
     },
     "execution_count": 263,
     "metadata": {},
     "output_type": "execute_result"
    }
   ],
   "source": [
    "connections = [(0, 4), (3, 5), (1, 2), (2, 5), (5, 1)]\n",
    "groups = [i for i in range(6)]\n",
    "groups"
   ]
  },
  {
   "cell_type": "code",
   "execution_count": 266,
   "metadata": {},
   "outputs": [],
   "source": [
    "def findDisjointSet(connections, groups):\n",
    "    for connection in connections:\n",
    "        p = min(connection)\n",
    "        q = max(connection)\n",
    "        for i in range(len(groups)):\n",
    "            if (groups[i] == groups[q]):\n",
    "                groups[i] = groups[p]\n",
    "    return groups"
   ]
  },
  {
   "cell_type": "code",
   "execution_count": 267,
   "metadata": {},
   "outputs": [
    {
     "data": {
      "text/plain": [
       "[0, 1, 1, 1, 0, 1]"
      ]
     },
     "execution_count": 267,
     "metadata": {},
     "output_type": "execute_result"
    }
   ],
   "source": [
    "findDisjointSet(connections, groups)"
   ]
  },
  {
   "cell_type": "code",
   "execution_count": 486,
   "metadata": {},
   "outputs": [],
   "source": [
    "connections = [(0, 4), (3, 5), (1, 2), (2, 5), (5, 1)]\n",
    "def findDisjointSet1(connections, maxN):\n",
    "    group2Members = {i:{i} for i in range(maxN)}\n",
    "    for connection in connections:\n",
    "        \n",
    "        for group, members in group2Members.items():\n",
    "            if (connection[0] in members):\n",
    "                group2Members[group] = members.union(group2Members[connection[1]])\n",
    "\n",
    "    return group2Members\n",
    "        "
   ]
  },
  {
   "cell_type": "code",
   "execution_count": 487,
   "metadata": {},
   "outputs": [
    {
     "data": {
      "text/plain": [
       "{0: {0, 4}, 1: {1, 2, 5}, 2: {1, 2, 5}, 3: {1, 2, 3, 5}, 4: {4}, 5: {1, 2, 5}}"
      ]
     },
     "execution_count": 487,
     "metadata": {},
     "output_type": "execute_result"
    }
   ],
   "source": [
    "findDisjointSet1(connections, 6)"
   ]
  },
  {
   "cell_type": "markdown",
   "metadata": {},
   "source": [
    "### Dam"
   ]
  },
  {
   "cell_type": "code",
   "execution_count": 498,
   "metadata": {},
   "outputs": [],
   "source": [
    "wallPosition = [0, 7]\n",
    "wallHeights = [2, 4]"
   ]
  },
  {
   "cell_type": "code",
   "execution_count": 505,
   "metadata": {},
   "outputs": [],
   "source": [
    "def damDeisgn(wallPosition, wallHeights):\n",
    "    result = 0\n",
    "    for i in range(len(wallPosition)-1):\n",
    "        heightDiff = abs(wallHeights[i+1] - wallHeights[i])\n",
    "        gapDiff = abs(wallPosition[i+1] - wallPosition[i] - 1)\n",
    "        localMax = 0\n",
    "        if (gapDiff > heightDiff):\n",
    "            #5\n",
    "            low = max(wallHeights[i+1], wallHeights[i])+1\n",
    "            remGap = gapDiff - heightDiff - 1\n",
    "            localMax = low + remGap // 2\n",
    "        else:\n",
    "            localMax = min(wallHeights[i+1], wallHeights[i])+gapDiff\n",
    "        result = max(result, localMax)\n",
    "    return result"
   ]
  },
  {
   "cell_type": "code",
   "execution_count": 506,
   "metadata": {},
   "outputs": [
    {
     "data": {
      "text/plain": [
       "6"
      ]
     },
     "execution_count": 506,
     "metadata": {},
     "output_type": "execute_result"
    }
   ],
   "source": [
    "damDeisgn(wallPosition, wallHeights)"
   ]
  },
  {
   "cell_type": "markdown",
   "metadata": {},
   "source": [
    "### Keyboard"
   ]
  },
  {
   "cell_type": "code",
   "execution_count": 546,
   "metadata": {},
   "outputs": [],
   "source": [
    "def generatekeyboardAdjencyMatrix(n):\n",
    "    import math\n",
    "    adjency_matrix = [[0]*n for i in range(n)]\n",
    "    col = int(math.sqrt(n))\n",
    "    \n",
    "    for i in range(n):\n",
    "        baseAxis = (i//col, i%col)\n",
    "        for j in range(n):\n",
    "            travelAxis = (j//col, j%col)\n",
    "            diff = (abs(baseAxis[0]-travelAxis[0]), abs(baseAxis[1]-travelAxis[1]))\n",
    "            adjency_matrix[i][j] = max(diff)\n",
    "    return adjency_matrix"
   ]
  },
  {
   "cell_type": "code",
   "execution_count": 558,
   "metadata": {},
   "outputs": [],
   "source": [
    "def entryTime(s, keypad):\n",
    "    adjency_matrix = generatekeyboardAdjencyMatrix(len(keypad))\n",
    "    key2Index = {keypad[i]:i for i in range(len(keypad))}\n",
    "    result = 0\n",
    "    currentPos = key2Index[s[0]]\n",
    "    for i in s:\n",
    "        result+=(adjency_matrix[currentPos][key2Index[i]])\n",
    "        currentPos = key2Index[i]\n",
    "    return result"
   ]
  },
  {
   "cell_type": "code",
   "execution_count": 559,
   "metadata": {},
   "outputs": [
    {
     "data": {
      "text/plain": [
       "8"
      ]
     },
     "execution_count": 559,
     "metadata": {},
     "output_type": "execute_result"
    }
   ],
   "source": [
    "entryTime('423692','923857614')"
   ]
  },
  {
   "cell_type": "markdown",
   "metadata": {},
   "source": [
    "### Connected groups"
   ]
  },
  {
   "cell_type": "code",
   "execution_count": 563,
   "metadata": {},
   "outputs": [],
   "source": [
    "def findDisjoinSet(connections, groups):\n",
    "    for connection in connections:\n",
    "        p = min(connection)\n",
    "        q = max(connection)\n",
    "        for i in range(len(groups)):\n",
    "            if (groups[i] == groups[q]):\n",
    "                groups[i] = groups[p]\n",
    "    return groups"
   ]
  },
  {
   "cell_type": "code",
   "execution_count": 564,
   "metadata": {},
   "outputs": [],
   "source": [
    "def countGroups(related):\n",
    "    connections = []\n",
    "    for i in range(len(related)):\n",
    "        for j in range(len(related[i])):\n",
    "            if (related[i][j] == '1' and i!=j):\n",
    "                connections.append([i, j])\n",
    "    groups = [i for i in range(len(related[0]))]\n",
    "    return len(set(findDisjoinSet(connections, groups)))"
   ]
  },
  {
   "cell_type": "code",
   "execution_count": 565,
   "metadata": {},
   "outputs": [
    {
     "data": {
      "text/plain": [
       "2"
      ]
     },
     "execution_count": 565,
     "metadata": {},
     "output_type": "execute_result"
    }
   ],
   "source": [
    "countGroups(['1100','1110','0110','0001'])"
   ]
  },
  {
   "cell_type": "markdown",
   "metadata": {},
   "source": [
    "### Highly Profitable Months"
   ]
  },
  {
   "cell_type": "code",
   "execution_count": 578,
   "metadata": {},
   "outputs": [],
   "source": [
    "def findLastZeroIndex(target):\n",
    "    for i in range(len(target)-1, -1, -1):\n",
    "        if (target[i]=='0'):\n",
    "            return i\n",
    "    return -1\n",
    "def countHighlyProfitableMonths(stockPrices, k):\n",
    "    result = 0\n",
    "    recordList = []\n",
    "    start1Index = None\n",
    "    if (len(stockPrices)<k):\n",
    "        return 0\n",
    "    if (len(stockPrices)==1):\n",
    "        if (k==1):\n",
    "            return 1\n",
    "        else:\n",
    "            0\n",
    "    for i in range(len(stockPrices)-1):\n",
    "        if (stockPrices[i+1]>stockPrices[i]):\n",
    "            if (start1Index == None):\n",
    "                start1Index = i\n",
    "        else:\n",
    "            if (start1Index != None):\n",
    "                recordList.append((start1Index, i))\n",
    "                start1Index = None\n",
    "\n",
    "    if (stockPrices[-1]>stockPrices[-2]):\n",
    "        recordList.append((start1Index, len(stockPrices)-1))\n",
    "    for record in recordList:\n",
    "        if (record[1]-record[0]-k+2)>0:\n",
    "            result+=(record[1]-record[0]-k+2)\n",
    "    return result"
   ]
  },
  {
   "cell_type": "code",
   "execution_count": 579,
   "metadata": {},
   "outputs": [
    {
     "data": {
      "text/plain": [
       "1"
      ]
     },
     "execution_count": 579,
     "metadata": {},
     "output_type": "execute_result"
    }
   ],
   "source": [
    "countHighlyProfitableMonths([1, 2, 3, 4], 4)"
   ]
  },
  {
   "cell_type": "code",
   "execution_count": null,
   "metadata": {},
   "outputs": [],
   "source": []
  }
 ],
 "metadata": {
  "kernelspec": {
   "display_name": "Python 3",
   "language": "python",
   "name": "python3"
  },
  "language_info": {
   "codemirror_mode": {
    "name": "ipython",
    "version": 3
   },
   "file_extension": ".py",
   "mimetype": "text/x-python",
   "name": "python",
   "nbconvert_exporter": "python",
   "pygments_lexer": "ipython3",
   "version": "3.8.3"
  }
 },
 "nbformat": 4,
 "nbformat_minor": 4
}
